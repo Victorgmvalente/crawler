{
 "cells": [
  {
   "cell_type": "code",
   "execution_count": 3,
   "id": "8798741a",
   "metadata": {},
   "outputs": [],
   "source": [
    "#!pip install Scrapy\n",
    "#!scrapy startproject smf_crawler\n",
    "#!scrapy genspider Tecnoblog tecnoblog.net"
   ]
  },
  {
   "cell_type": "code",
   "execution_count": 5,
   "id": "664d5679",
   "metadata": {},
   "outputs": [],
   "source": [
    "# -*- coding: utf-8 -*-\n",
    "import scrapy"
   ]
  },
  {
   "cell_type": "code",
   "execution_count": 9,
   "id": "1eb4f3da",
   "metadata": {},
   "outputs": [],
   "source": [
    "class TecnoblogSpider(scrapy.Spider):\n",
    "    name = 'Infomoney'\n",
    "    #allowed_domains = ['tecnoblog.net']\n",
    "    start_urls = ['https://www.infomoney.com.br/ultimas-noticias/']\n",
    "\n",
    "    def parse(self, response):\n",
    "        for i in response.xpath(\"*//div/span[@class='hl-title hl-title-2']\"):\n",
    "            chamada = i.xpath(\".//div/span[@class='hl-title hl-title-2']//text()\").getall()\n",
    "        \n",
    "        pass"
   ]
  },
  {
   "cell_type": "code",
   "execution_count": 11,
   "id": "6bbf5ef3",
   "metadata": {},
   "outputs": [
    {
     "name": "stdout",
     "output_type": "stream",
     "text": [
      "Scrapy 2.5.0 - no active project\r\n",
      "\r\n",
      "Unknown command: crawl\r\n",
      "\r\n",
      "Use \"scrapy\" to see available commands\r\n"
     ]
    }
   ],
   "source": [
    "!scrapy crawl smf_crawler"
   ]
  },
  {
   "cell_type": "code",
   "execution_count": 12,
   "id": "fdc54276",
   "metadata": {},
   "outputs": [
    {
     "name": "stdout",
     "output_type": "stream",
     "text": [
      "Scrapy 2.5.0 - no active project\r\n",
      "\r\n",
      "Usage:\r\n",
      "  scrapy <command> [options] [args]\r\n",
      "\r\n",
      "Available commands:\r\n",
      "  bench         Run quick benchmark test\r\n",
      "  commands      \r\n",
      "  fetch         Fetch a URL using the Scrapy downloader\r\n",
      "  genspider     Generate new spider using pre-defined templates\r\n",
      "  runspider     Run a self-contained spider (without creating a project)\r\n",
      "  settings      Get settings values\r\n",
      "  shell         Interactive scraping console\r\n",
      "  startproject  Create new project\r\n",
      "  version       Print Scrapy version\r\n",
      "  view          Open URL in browser, as seen by Scrapy\r\n",
      "\r\n",
      "  [ more ]      More commands available when run from project directory\r\n",
      "\r\n",
      "Use \"scrapy <command> -h\" to see more info about a command\r\n"
     ]
    }
   ],
   "source": [
    "!scrapy"
   ]
  },
  {
   "cell_type": "code",
   "execution_count": null,
   "id": "b1da8c54",
   "metadata": {},
   "outputs": [],
   "source": []
  }
 ],
 "metadata": {
  "kernelspec": {
   "display_name": "Python 3 (ipykernel)",
   "language": "python",
   "name": "python3"
  },
  "language_info": {
   "codemirror_mode": {
    "name": "ipython",
    "version": 3
   },
   "file_extension": ".py",
   "mimetype": "text/x-python",
   "name": "python",
   "nbconvert_exporter": "python",
   "pygments_lexer": "ipython3",
   "version": "3.8.12"
  }
 },
 "nbformat": 4,
 "nbformat_minor": 5
}
